{
 "cells": [
  {
   "cell_type": "code",
   "execution_count": 1,
   "id": "69f511c2",
   "metadata": {},
   "outputs": [],
   "source": [
    "import pandas as pd\n",
    "import numpy as np\n",
    "import matplotlib.pyplot as plt\n",
    "from sklearn.preprocessing import OneHotEncoder\n",
    "from sklearn.decomposition import TruncatedSVD\n",
    "\n",
    "from sklearn import tree"
   ]
  },
  {
   "cell_type": "markdown",
   "id": "d20e0f83",
   "metadata": {},
   "source": [
    "## Load the data"
   ]
  },
  {
   "cell_type": "code",
   "execution_count": 2,
   "id": "afc6fe76",
   "metadata": {},
   "outputs": [],
   "source": [
    "X=np.load('dataset_diabetes/X_array.npy',allow_pickle=True)\n",
    "readmission=np.load('dataset_diabetes/Y.npy',allow_pickle=True)\n",
    "encounter_id=np.load('dataset_diabetes/encounter_id.npy',allow_pickle=True)\n",
    "patient_nbr=np.load('dataset_diabetes/patient_nbr.npy',allow_pickle=True)"
   ]
  },
  {
   "cell_type": "markdown",
   "id": "c31cebbf",
   "metadata": {},
   "source": [
    "## One Hot encoding and Convert readmission to binary Y"
   ]
  },
  {
   "cell_type": "code",
   "execution_count": 3,
   "id": "32c74c48",
   "metadata": {},
   "outputs": [],
   "source": [
    "my_list = np.where(readmission == 'NO', 0, readmission)\n",
    "my_list2 = np.where(my_list == '>30', 0, my_list)\n",
    "Y0 = np.where(my_list2 == '<30', 1, my_list2)\n",
    "Y=list(Y0)"
   ]
  },
  {
   "cell_type": "code",
   "execution_count": null,
   "id": "88240949",
   "metadata": {},
   "outputs": [],
   "source": [
    "binarydat=OneHotEncoder().fit_transform(X)\n",
    "binarydat.shape\n",
    "\n",
    "\n",
    "clf = tree.DecisionTreeClassifier()\n",
    "clf = clf.fit(binarydat, Y)"
   ]
  },
  {
   "cell_type": "code",
   "execution_count": null,
   "id": "dfe9a994",
   "metadata": {},
   "outputs": [],
   "source": [
    "clf.get_n_leaves()"
   ]
  },
  {
   "cell_type": "code",
   "execution_count": null,
   "id": "433a1001",
   "metadata": {},
   "outputs": [],
   "source": [
    "clf.get_params()"
   ]
  },
  {
   "cell_type": "code",
   "execution_count": null,
   "id": "8d93cef4",
   "metadata": {},
   "outputs": [],
   "source": [
    "clf.decision_path(binarydat)"
   ]
  },
  {
   "cell_type": "code",
   "execution_count": null,
   "id": "858437bd",
   "metadata": {},
   "outputs": [],
   "source": [
    "binarydat.shape"
   ]
  },
  {
   "cell_type": "code",
   "execution_count": null,
   "id": "693af994",
   "metadata": {},
   "outputs": [],
   "source": []
  }
 ],
 "metadata": {
  "kernelspec": {
   "display_name": "Python 3 (ipykernel)",
   "language": "python",
   "name": "python3"
  },
  "language_info": {
   "codemirror_mode": {
    "name": "ipython",
    "version": 3
   },
   "file_extension": ".py",
   "mimetype": "text/x-python",
   "name": "python",
   "nbconvert_exporter": "python",
   "pygments_lexer": "ipython3",
   "version": "3.8.5"
  }
 },
 "nbformat": 4,
 "nbformat_minor": 5
}
