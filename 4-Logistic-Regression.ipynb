{
 "cells": [
  {
   "cell_type": "code",
   "execution_count": 1,
   "id": "8804eab8",
   "metadata": {},
   "outputs": [],
   "source": [
    "#import packages\n",
    "import numpy as np\n",
    "from sklearn.linear_model import LogisticRegression\n",
    "from sklearn.model_selection import train_test_split\n",
    "from sklearn.metrics import confusion_matrix\n",
    "from sklearn.metrics import roc_auc_score\n",
    "\n",
    "import matplotlib.pyplot as plt\n"
   ]
  },
  {
   "cell_type": "code",
   "execution_count": 2,
   "id": "756f03c8",
   "metadata": {},
   "outputs": [],
   "source": [
    "#import data (X - selected features)\n",
    "X1=np.load('dataset_diabetes/tree_selected_25_X.npy',allow_pickle=True) #decision tree top 25\n",
    "X2=np.load('dataset_diabetes/SVD_selected_25_X.npy',allow_pickle=True) # SVD top 25\n",
    "\n",
    "#import and format Y (labels for our classifier - readmitted=1 or not (at least not soon)=0)\n",
    "readmission=np.load('dataset_diabetes/Y.npy',allow_pickle=True)\n",
    "my_list = np.where(readmission == 'NO', 0, readmission)\n",
    "my_list2 = np.where(my_list == '>30', 0, my_list)\n",
    "Y0 = np.where(my_list2 == '<30', 1, my_list2)\n",
    "Y=list(Y0)"
   ]
  },
  {
   "cell_type": "markdown",
   "id": "8615ae21",
   "metadata": {},
   "source": [
    "# Check to make sure data is size I expect"
   ]
  },
  {
   "cell_type": "code",
   "execution_count": 3,
   "id": "3e2c403b",
   "metadata": {},
   "outputs": [
    {
     "data": {
      "text/plain": [
       "(101766, 25)"
      ]
     },
     "execution_count": 3,
     "metadata": {},
     "output_type": "execute_result"
    }
   ],
   "source": [
    "X1.shape # features chosen by decision tree (binary, meaningful)"
   ]
  },
  {
   "cell_type": "code",
   "execution_count": 4,
   "id": "1e0833e9",
   "metadata": {},
   "outputs": [
    {
     "data": {
      "text/plain": [
       "(101766, 25)"
      ]
     },
     "execution_count": 4,
     "metadata": {},
     "output_type": "execute_result"
    }
   ],
   "source": [
    "X2.shape # features chosen by SVD - not binary, not rly meaningful"
   ]
  },
  {
   "cell_type": "code",
   "execution_count": 5,
   "id": "cf54d0f8",
   "metadata": {},
   "outputs": [
    {
     "data": {
      "text/plain": [
       "101766"
      ]
     },
     "execution_count": 5,
     "metadata": {},
     "output_type": "execute_result"
    }
   ],
   "source": [
    "len(Y)"
   ]
  },
  {
   "cell_type": "markdown",
   "id": "dd6676a9",
   "metadata": {},
   "source": [
    "# Split into train and test data sets"
   ]
  },
  {
   "cell_type": "code",
   "execution_count": 6,
   "id": "85dc9f01",
   "metadata": {},
   "outputs": [],
   "source": [
    "# relabel X arrays\n",
    "X_DT = X1\n",
    "X_SVD = X2\n",
    "\n",
    "# Split data\n",
    "XDT_train, XDT_test, YDT_train, YDT_test = train_test_split(X_DT, Y, test_size=0.33, random_state=1)\n",
    "XSVD_train, XSVD_test, YSVD_train, YSVD_test = train_test_split(X_SVD, Y, test_size=0.33, random_state=1)"
   ]
  },
  {
   "cell_type": "code",
   "execution_count": 7,
   "id": "97adb144",
   "metadata": {},
   "outputs": [
    {
     "data": {
      "text/plain": [
       "(68183, 25)"
      ]
     },
     "execution_count": 7,
     "metadata": {},
     "output_type": "execute_result"
    }
   ],
   "source": [
    "XDT_train.shape"
   ]
  },
  {
   "cell_type": "code",
   "execution_count": 8,
   "id": "560debb2",
   "metadata": {},
   "outputs": [
    {
     "data": {
      "text/plain": [
       "(68183, 25)"
      ]
     },
     "execution_count": 8,
     "metadata": {},
     "output_type": "execute_result"
    }
   ],
   "source": [
    "XSVD_train.shape"
   ]
  },
  {
   "cell_type": "markdown",
   "id": "2f262d62",
   "metadata": {},
   "source": [
    "# Logistic Regression Models"
   ]
  },
  {
   "cell_type": "markdown",
   "id": "bb7a7cb6",
   "metadata": {},
   "source": [
    "## Default Logistic Regression"
   ]
  },
  {
   "cell_type": "code",
   "execution_count": 9,
   "id": "3a9002cb",
   "metadata": {},
   "outputs": [
    {
     "name": "stdout",
     "output_type": "stream",
     "text": [
      "SVD Train Conf. Matrix: \n",
      "[[60483     0]\n",
      " [ 7700     0]]\n",
      "\n",
      "SVD Test Conf. Matrix: \n",
      "[[29926     0]\n",
      " [ 3657     0]]\n",
      "\n",
      "Tree Train Conf. Matrix: \n",
      "[[60381   102]\n",
      " [ 7590   110]]\n",
      "\n",
      "Tree Test Conf. Matrix: \n",
      "[[29855    71]\n",
      " [ 3613    44]]\n",
      "The percentage of correct training assignments is:  0.8870686241438481\n",
      "The percentage of correct test assignments is:  0.8911056189143317\n"
     ]
    }
   ],
   "source": [
    "### Default Log regression\n",
    "DT_logit = LogisticRegression(random_state=1, max_iter=10000,tol=1e-8, penalty='none').fit(XDT_train, YDT_train)\n",
    "SVD_logit = LogisticRegression(random_state=1, max_iter=10000,tol=1e-8, penalty='none').fit(XSVD_train, YSVD_train)\n",
    "\n",
    "# Use model to make predictions\n",
    "YhatDT_train = DT_logit.predict(XDT_train)\n",
    "YhatDT_test = DT_logit.predict(XDT_test)\n",
    "YhatSVD_train = SVD_logit.predict(XSVD_train)\n",
    "YhatSVD_test = SVD_logit.predict(XSVD_test)\n",
    "\n",
    "# Confusion matricies\n",
    "CM_SVD_Train = confusion_matrix(YSVD_train,YhatSVD_train);\n",
    "CM_SVD_Test = confusion_matrix(YSVD_test,YhatSVD_test);\n",
    "\n",
    "CM_Tree_Train = confusion_matrix(YDT_train,YhatDT_train);\n",
    "CM_Tree_Test = confusion_matrix(YDT_test,YhatDT_test);\n",
    "\n",
    "print('SVD Train Conf. Matrix: '+'\\n'+str(CM_SVD_Train)+'\\n')\n",
    "print('SVD Test Conf. Matrix: '+'\\n'+str(CM_SVD_Test)+'\\n')\n",
    "print('Tree Train Conf. Matrix: '+'\\n'+str(CM_Tree_Train)+'\\n')\n",
    "print('Tree Test Conf. Matrix: '+'\\n'+str(CM_Tree_Test))\n",
    "\n",
    "# Score\n",
    "SVD_Train_Correct = sum(np.diag(CM_SVD_Train))\n",
    "SVD_Train_Total = len(XSVD_train)\n",
    "print('The percentage of correct training assignments is: ',SVD_Train_Correct/SVD_Train_Total)\n",
    "\n",
    "SVD_Test_Correct = sum(np.diag(CM_SVD_Test))\n",
    "SVD_Test_Total = len(XSVD_test)\n",
    "print('The percentage of correct test assignments is: ',SVD_Test_Correct/SVD_Test_Total)"
   ]
  },
  {
   "cell_type": "markdown",
   "id": "f0b9dbb4",
   "metadata": {},
   "source": [
    "## Class weight: balanced"
   ]
  },
  {
   "cell_type": "code",
   "execution_count": 10,
   "id": "a460c7a9",
   "metadata": {
    "scrolled": true
   },
   "outputs": [
    {
     "name": "stdout",
     "output_type": "stream",
     "text": [
      "SVD Train Conf. Matrix: \n",
      "[[36898 23585]\n",
      " [ 3290  4410]]\n",
      "\n",
      "SVD Test Conf. Matrix: \n",
      "[[18125 11801]\n",
      " [ 1552  2105]]\n",
      "\n",
      "Tree Train Conf. Matrix: \n",
      "[[42500 17983]\n",
      " [ 3670  4030]]\n",
      "\n",
      "Tree Test Conf. Matrix: \n",
      "[[20864  9062]\n",
      " [ 1707  1950]]\n",
      "The percentage of correct training assignments is:  0.6058401654371324\n",
      "The percentage of correct test assignments is:  0.60238811303338\n"
     ]
    }
   ],
   "source": [
    "balancedDT_logit = LogisticRegression(random_state=1, max_iter=10000,tol=1e-8, penalty='none',class_weight='balanced').fit(XDT_train, YDT_train)\n",
    "balancedSVD_logit = LogisticRegression(random_state=1, max_iter=10000,tol=1e-8, penalty='none',class_weight='balanced').fit(XSVD_train, YSVD_train)\n",
    "\n",
    "# Use model to make predictions\n",
    "YhatDT_train = balancedDT_logit.predict(XDT_train)\n",
    "YhatDT_test = balancedDT_logit.predict(XDT_test)\n",
    "YhatSVD_train = balancedSVD_logit.predict(XSVD_train)\n",
    "YhatSVD_test = balancedSVD_logit.predict(XSVD_test)\n",
    "\n",
    "# Confusion matricies\n",
    "CM_SVD_Train = confusion_matrix(YSVD_train,YhatSVD_train);\n",
    "CM_SVD_Test = confusion_matrix(YSVD_test,YhatSVD_test);\n",
    "\n",
    "CM_Tree_Train = confusion_matrix(YDT_train,YhatDT_train);\n",
    "CM_Tree_Test = confusion_matrix(YDT_test,YhatDT_test);\n",
    "\n",
    "print('SVD Train Conf. Matrix: '+'\\n'+str(CM_SVD_Train)+'\\n')\n",
    "print('SVD Test Conf. Matrix: '+'\\n'+str(CM_SVD_Test)+'\\n')\n",
    "print('Tree Train Conf. Matrix: '+'\\n'+str(CM_Tree_Train)+'\\n')\n",
    "print('Tree Test Conf. Matrix: '+'\\n'+str(CM_Tree_Test))\n",
    "\n",
    "# Score\n",
    "SVD_Train_Correct = sum(np.diag(CM_SVD_Train))\n",
    "SVD_Train_Total = len(XSVD_train)\n",
    "print('The percentage of correct training assignments is: ',SVD_Train_Correct/SVD_Train_Total)\n",
    "\n",
    "SVD_Test_Correct = sum(np.diag(CM_SVD_Test))\n",
    "SVD_Test_Total = len(XSVD_test)\n",
    "print('The percentage of correct test assignments is: ',SVD_Test_Correct/SVD_Test_Total)"
   ]
  },
  {
   "cell_type": "markdown",
   "id": "243d2dc3",
   "metadata": {},
   "source": [
    "## Custom class weights"
   ]
  },
  {
   "cell_type": "markdown",
   "id": "a23bbdcd",
   "metadata": {},
   "source": [
    "Here, we test a few values to see how the class weights affect the accuracy of our model. We use this information to pick a range to loop through below."
   ]
  },
  {
   "cell_type": "code",
   "execution_count": 11,
   "id": "a336e6e4",
   "metadata": {
    "scrolled": true
   },
   "outputs": [
    {
     "name": "stdout",
     "output_type": "stream",
     "text": [
      "SVD Train Conf. Matrix: \n",
      "[[30708 29775]\n",
      " [ 2443  5257]]\n",
      "\n",
      "SVD Test Conf. Matrix: \n",
      "[[14993 14933]\n",
      " [ 1139  2518]]\n",
      "\n",
      "Tree Train Conf. Matrix: \n",
      "[[36172 24311]\n",
      " [ 2807  4893]]\n",
      "\n",
      "Tree Test Conf. Matrix: \n",
      "[[17607 12319]\n",
      " [ 1295  2362]]\n",
      "The percentage of correct training assignments is:  0.5274775237229221\n",
      "The percentage of correct test assignments is:  0.5214245302682905\n"
     ]
    }
   ],
   "source": [
    "# {0:.1, 1:.9} Quite close to \"balanced\" since this is about the ratio seen in data\n",
    "custombalancedDT_logit = LogisticRegression(random_state=1, max_iter=10000,tol=1e-8, penalty='none',class_weight={0:.1, 1:.9}).fit(XDT_train, YDT_train)\n",
    "custombalancedSVD_logit = LogisticRegression(random_state=1, max_iter=10000,tol=1e-8, penalty='none',class_weight={0:.1, 1:.9}).fit(XSVD_train, YSVD_train)\n",
    "\n",
    "# Use model to make predictions\n",
    "YhatDT_train = custombalancedDT_logit.predict(XDT_train)\n",
    "YhatDT_test = custombalancedDT_logit.predict(XDT_test)\n",
    "YhatSVD_train = custombalancedSVD_logit.predict(XSVD_train)\n",
    "YhatSVD_test = custombalancedSVD_logit.predict(XSVD_test)\n",
    "\n",
    "# Confusion matricies\n",
    "CM_SVD_Train = confusion_matrix(YSVD_train,YhatSVD_train);\n",
    "CM_SVD_Test = confusion_matrix(YSVD_test,YhatSVD_test);\n",
    "\n",
    "CM_Tree_Train = confusion_matrix(YDT_train,YhatDT_train);\n",
    "CM_Tree_Test = confusion_matrix(YDT_test,YhatDT_test);\n",
    "\n",
    "print('SVD Train Conf. Matrix: '+'\\n'+str(CM_SVD_Train)+'\\n')\n",
    "print('SVD Test Conf. Matrix: '+'\\n'+str(CM_SVD_Test)+'\\n')\n",
    "print('Tree Train Conf. Matrix: '+'\\n'+str(CM_Tree_Train)+'\\n')\n",
    "print('Tree Test Conf. Matrix: '+'\\n'+str(CM_Tree_Test))\n",
    "\n",
    "# Score\n",
    "SVD_Train_Correct = sum(np.diag(CM_SVD_Train))\n",
    "SVD_Train_Total = len(XSVD_train)\n",
    "print('The percentage of correct training assignments is: ',SVD_Train_Correct/SVD_Train_Total)\n",
    "\n",
    "SVD_Test_Correct = sum(np.diag(CM_SVD_Test))\n",
    "SVD_Test_Total = len(XSVD_test)\n",
    "print('The percentage of correct test assignments is: ',SVD_Test_Correct/SVD_Test_Total)"
   ]
  },
  {
   "cell_type": "code",
   "execution_count": 12,
   "id": "638137c6",
   "metadata": {
    "scrolled": true
   },
   "outputs": [
    {
     "name": "stdout",
     "output_type": "stream",
     "text": [
      "SVD Train Conf. Matrix: \n",
      "[[60483     0]\n",
      " [ 7700     0]]\n",
      "\n",
      "SVD Test Conf. Matrix: \n",
      "[[29926     0]\n",
      " [ 3657     0]]\n",
      "\n",
      "Tree Train Conf. Matrix: \n",
      "[[60483     0]\n",
      " [ 7695     5]]\n",
      "\n",
      "Tree Test Conf. Matrix: \n",
      "[[29926     0]\n",
      " [ 3653     4]]\n",
      "The percentage of correct training assignments is:  0.8870686241438481\n",
      "The percentage of correct test assignments is:  0.8911056189143317\n"
     ]
    }
   ],
   "source": [
    "# {0:.9, 1:.1}\n",
    "custombalancedDT_logit = LogisticRegression(random_state=1, max_iter=10000,tol=1e-8, penalty='none',class_weight={0:.9, 1:.1}).fit(XDT_train, YDT_train)\n",
    "custombalancedSVD_logit = LogisticRegression(random_state=1, max_iter=10000,tol=1e-8, penalty='none',class_weight={0:.9, 1:.1}).fit(XSVD_train, YSVD_train)\n",
    "\n",
    "# Use model to make predictions\n",
    "YhatDT_train = custombalancedDT_logit.predict(XDT_train)\n",
    "YhatDT_test = custombalancedDT_logit.predict(XDT_test)\n",
    "YhatSVD_train = custombalancedSVD_logit.predict(XSVD_train)\n",
    "YhatSVD_test = custombalancedSVD_logit.predict(XSVD_test)\n",
    "\n",
    "# Confusion matricies\n",
    "CM_SVD_Train = confusion_matrix(YSVD_train,YhatSVD_train);\n",
    "CM_SVD_Test = confusion_matrix(YSVD_test,YhatSVD_test);\n",
    "\n",
    "CM_Tree_Train = confusion_matrix(YDT_train,YhatDT_train);\n",
    "CM_Tree_Test = confusion_matrix(YDT_test,YhatDT_test);\n",
    "\n",
    "print('SVD Train Conf. Matrix: '+'\\n'+str(CM_SVD_Train)+'\\n')\n",
    "print('SVD Test Conf. Matrix: '+'\\n'+str(CM_SVD_Test)+'\\n')\n",
    "print('Tree Train Conf. Matrix: '+'\\n'+str(CM_Tree_Train)+'\\n')\n",
    "print('Tree Test Conf. Matrix: '+'\\n'+str(CM_Tree_Test))\n",
    "\n",
    "# Score\n",
    "SVD_Train_Correct = sum(np.diag(CM_SVD_Train))\n",
    "SVD_Train_Total = len(XSVD_train)\n",
    "print('The percentage of correct training assignments is: ',SVD_Train_Correct/SVD_Train_Total)\n",
    "\n",
    "SVD_Test_Correct = sum(np.diag(CM_SVD_Test))\n",
    "SVD_Test_Total = len(XSVD_test)\n",
    "print('The percentage of correct test assignments is: ',SVD_Test_Correct/SVD_Test_Total)"
   ]
  },
  {
   "cell_type": "code",
   "execution_count": 13,
   "id": "7b93f50d",
   "metadata": {
    "scrolled": true
   },
   "outputs": [
    {
     "name": "stdout",
     "output_type": "stream",
     "text": [
      "SVD Train Conf. Matrix: \n",
      "[[60483     0]\n",
      " [ 7700     0]]\n",
      "\n",
      "SVD Test Conf. Matrix: \n",
      "[[29926     0]\n",
      " [ 3657     0]]\n",
      "\n",
      "Tree Train Conf. Matrix: \n",
      "[[60381   102]\n",
      " [ 7590   110]]\n",
      "\n",
      "Tree Test Conf. Matrix: \n",
      "[[29855    71]\n",
      " [ 3613    44]]\n",
      "The percentage of correct training assignments is:  0.8870686241438481\n",
      "The percentage of correct test assignments is:  0.8911056189143317\n"
     ]
    }
   ],
   "source": [
    "# {0:.5, 1:.5}\n",
    "custombalancedDT_logit = LogisticRegression(random_state=1, max_iter=10000,tol=1e-8, penalty='none',class_weight={0:.5, 1:.5}).fit(XDT_train, YDT_train)\n",
    "custombalancedSVD_logit = LogisticRegression(random_state=1, max_iter=10000,tol=1e-8, penalty='none',class_weight={0:.5, 1:.5}).fit(XSVD_train, YSVD_train)\n",
    "\n",
    "# Use model to make predictions\n",
    "YhatDT_train = custombalancedDT_logit.predict(XDT_train)\n",
    "YhatDT_test = custombalancedDT_logit.predict(XDT_test)\n",
    "YhatSVD_train = custombalancedSVD_logit.predict(XSVD_train)\n",
    "YhatSVD_test = custombalancedSVD_logit.predict(XSVD_test)\n",
    "\n",
    "# Confusion matricies\n",
    "CM_SVD_Train = confusion_matrix(YSVD_train,YhatSVD_train);\n",
    "CM_SVD_Test = confusion_matrix(YSVD_test,YhatSVD_test);\n",
    "\n",
    "CM_Tree_Train = confusion_matrix(YDT_train,YhatDT_train);\n",
    "CM_Tree_Test = confusion_matrix(YDT_test,YhatDT_test);\n",
    "\n",
    "print('SVD Train Conf. Matrix: '+'\\n'+str(CM_SVD_Train)+'\\n')\n",
    "print('SVD Test Conf. Matrix: '+'\\n'+str(CM_SVD_Test)+'\\n')\n",
    "print('Tree Train Conf. Matrix: '+'\\n'+str(CM_Tree_Train)+'\\n')\n",
    "print('Tree Test Conf. Matrix: '+'\\n'+str(CM_Tree_Test))\n",
    "\n",
    "# Score\n",
    "SVD_Train_Correct = sum(np.diag(CM_SVD_Train))\n",
    "SVD_Train_Total = len(XSVD_train)\n",
    "print('The percentage of correct training assignments is: ',SVD_Train_Correct/SVD_Train_Total)\n",
    "\n",
    "SVD_Test_Correct = sum(np.diag(CM_SVD_Test))\n",
    "SVD_Test_Total = len(XSVD_test)\n",
    "print('The percentage of correct test assignments is: ',SVD_Test_Correct/SVD_Test_Total)"
   ]
  },
  {
   "cell_type": "code",
   "execution_count": 14,
   "id": "285c346a",
   "metadata": {},
   "outputs": [
    {
     "name": "stdout",
     "output_type": "stream",
     "text": [
      "[0.   0.01 0.02 0.03 0.04 0.05 0.06 0.07 0.08 0.09 0.1  0.11 0.12 0.13\n",
      " 0.14 0.15 0.16 0.17 0.18 0.19 0.2  0.21 0.22 0.23 0.24 0.25 0.26 0.27\n",
      " 0.28 0.29 0.3  0.31 0.32 0.33 0.34 0.35 0.36 0.37 0.38 0.39 0.4  0.41\n",
      " 0.42 0.43 0.44 0.45 0.46 0.47 0.48 0.49 0.5 ]\n"
     ]
    }
   ],
   "source": [
    "alphaweights = np.linspace(0,0.5,51)\n",
    "print(alphaweights)\n",
    "\n",
    "SVD_TrainAcc = [];\n",
    "SVD_TestAcc = [];\n",
    "DT_TrainAcc = [];\n",
    "DT_TestAcc = [];\n",
    "\n",
    "for alpha in enumerate(alphaweights):\n",
    "    custombalancedDT_logit = LogisticRegression(random_state=1, max_iter=10000,tol=1e-8, penalty='none',class_weight={0:alpha[1], 1:(1-alpha[1])}).fit(XDT_train, YDT_train)\n",
    "    custombalancedSVD_logit = LogisticRegression(random_state=1, max_iter=10000,tol=1e-8, penalty='none',class_weight={0:alpha[1], 1:(1-alpha[1])}).fit(XSVD_train, YSVD_train)\n",
    "    \n",
    "    # Use model to make predictions\n",
    "    YhatDT_train = custombalancedDT_logit.predict(XDT_train)\n",
    "    YhatDT_test = custombalancedDT_logit.predict(XDT_test)\n",
    "    YhatSVD_train = custombalancedSVD_logit.predict(XSVD_train)\n",
    "    YhatSVD_test = custombalancedSVD_logit.predict(XSVD_test)\n",
    "\n",
    "    # Confusion matricies\n",
    "    CM_SVD_Train = confusion_matrix(YSVD_train,YhatSVD_train);\n",
    "    CM_SVD_Test = confusion_matrix(YSVD_test,YhatSVD_test);\n",
    "    CM_DT_Train = confusion_matrix(YDT_train,YhatDT_train);\n",
    "    CM_DT_Test = confusion_matrix(YDT_test,YhatDT_test);\n",
    "    \n",
    "    # Save scores\n",
    "    SVD_TrainAcc.append(roc_auc_score(YSVD_train,custombalancedSVD_logit.predict(XSVD_train)));\n",
    "    SVD_TestAcc.append(roc_auc_score(YSVD_test,custombalancedSVD_logit.predict(XSVD_test)));\n",
    "    DT_TrainAcc.append(roc_auc_score(YDT_train,custombalancedDT_logit.predict(XDT_train)));\n",
    "    DT_TestAcc.append(roc_auc_score(YDT_test,custombalancedDT_logit.predict(XDT_test)));"
   ]
  },
  {
   "cell_type": "code",
   "execution_count": 15,
   "id": "2bd0ac3b",
   "metadata": {},
   "outputs": [
    {
     "data": {
      "image/png": "[encoded data removed]",
      "text/plain": [
       "<Figure size 432x288 with 1 Axes>"
      ]
     },
     "metadata": {
      "needs_background": "light"
     },
     "output_type": "display_data"
    }
   ],
   "source": [
    "plt.plot(alphaweights,np.array(SVD_TrainAcc),'b-',linewidth=2)\n",
    "plt.plot(alphaweights,np.array(SVD_TestAcc),'b--',linewidth=2)\n",
    "plt.plot(alphaweights,np.array(DT_TrainAcc),'r-',linewidth=2)\n",
    "plt.plot(alphaweights,np.array(DT_TestAcc),'r--',linewidth=2)\n",
    "plt.xlabel('Weight '+r'$\\alpha$',fontsize=12)\n",
    "plt.ylabel('ROC AUC Score',fontsize=12)\n",
    "plt.title('Weighted Logistic Regression Score',fontsize=14)\n",
    "plt.tight_layout()\n",
    "plt.show()"
   ]
  },
  {
   "cell_type": "code",
   "execution_count": 16,
   "id": "17b94a10",
   "metadata": {},
   "outputs": [
    {
     "name": "stdout",
     "output_type": "stream",
     "text": [
      "Best alpha SVD: 0.1\n",
      "Best alpha DT: 0.1\n"
     ]
    }
   ],
   "source": [
    "print('Best alpha SVD: '+str(alphaweights[np.where(SVD_TestAcc==max(SVD_TestAcc))][0]))\n",
    "print('Best alpha DT: '+str(alphaweights[np.where(DT_TestAcc==max(DT_TestAcc))][0]))"
   ]
  }
 ],
 "metadata": {
  "kernelspec": {
   "display_name": "Python 3",
   "language": "python",
   "name": "python3"
  },
  "language_info": {
   "codemirror_mode": {
    "name": "ipython",
    "version": 3
   },
   "file_extension": ".py",
   "mimetype": "text/x-python",
   "name": "python",
   "nbconvert_exporter": "python",
   "pygments_lexer": "ipython3",
   "version": "3.8.5"
  }
 },
 "nbformat": 4,
 "nbformat_minor": 5
}
