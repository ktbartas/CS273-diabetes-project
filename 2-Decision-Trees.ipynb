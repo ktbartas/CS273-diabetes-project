{
 "cells": [
  {
   "cell_type": "code",
   "execution_count": 1,
   "id": "3fe48a5e",
   "metadata": {},
   "outputs": [],
   "source": [
    "import pandas as pd\n",
    "import numpy as np\n",
    "import matplotlib.pyplot as plt\n",
    "from sklearn.preprocessing import OneHotEncoder\n",
    "from sklearn.decomposition import TruncatedSVD\n",
    "from sklearn.model_selection import train_test_split\n",
    "from sklearn import tree\n",
    "from scipy.sparse import csr_matrix"
   ]
  },
  {
   "cell_type": "markdown",
   "id": "fe43bdc2",
   "metadata": {},
   "source": [
    "## Load the data"
   ]
  },
  {
   "cell_type": "code",
   "execution_count": 2,
   "id": "949b1c11",
   "metadata": {},
   "outputs": [],
   "source": [
    "X=np.load('dataset_diabetes/X_array.npy',allow_pickle=True)\n",
    "readmission=np.load('dataset_diabetes/Y.npy',allow_pickle=True)\n",
    "encounter_id=np.load('dataset_diabetes/encounter_id.npy',allow_pickle=True)\n",
    "patient_nbr=np.load('dataset_diabetes/patient_nbr.npy',allow_pickle=True)"
   ]
  },
  {
   "cell_type": "markdown",
   "id": "db60f7d5",
   "metadata": {},
   "source": [
    "## One Hot encoding and Convert readmission to binary Y"
   ]
  },
  {
   "cell_type": "code",
   "execution_count": 3,
   "id": "3b18b3bc",
   "metadata": {},
   "outputs": [],
   "source": [
    "my_list = np.where(readmission == 'NO', 0, readmission)\n",
    "my_list2 = np.where(my_list == '>30', 0, my_list)\n",
    "Y0 = np.where(my_list2 == '<30', 1, my_list2)\n",
    "Y=list(Y0)"
   ]
  },
  {
   "cell_type": "code",
   "execution_count": 4,
   "id": "e3330bcf",
   "metadata": {},
   "outputs": [
    {
     "name": "stdout",
     "output_type": "stream",
     "text": [
      "(101766, 468)\n"
     ]
    }
   ],
   "source": [
    "#convert to binary\n",
    "binarydat=OneHotEncoder().fit_transform(X)\n",
    "print(binarydat.shape)\n",
    "binarydat_unpacked=csr_matrix(binarydat).toarray()\n",
    "#split into train and test\n",
    "X_train, X_test, y_train, y_test = train_test_split(binarydat_unpacked, Y, test_size=0.33, random_state=1)"
   ]
  },
  {
   "cell_type": "markdown",
   "id": "c8838bf4",
   "metadata": {},
   "source": [
    "# Decision tree parameter testing"
   ]
  },
  {
   "cell_type": "code",
   "execution_count": 5,
   "id": "3c0a0a10",
   "metadata": {},
   "outputs": [
    {
     "name": "stdout",
     "output_type": "stream",
     "text": [
      "Score for max_features=125 and max_depth=7 is: \n",
      "0.8908078492094215\n",
      "Score for max_features=125 and max_depth=7 is: \n",
      "0.8907780722389305\n",
      "Score for max_features=125 and max_depth=7 is: \n",
      "0.8904505255635292\n",
      "Score for max_features=125 and max_depth=7 is: \n",
      "0.8908376261799125\n",
      "Score for max_features=125 and max_depth=7 is: \n",
      "0.8906887413274573\n",
      "Score for max_features=125 and max_depth=7 is: \n",
      "0.8906887413274573\n",
      "Score for max_features=125 and max_depth=7 is: \n",
      "0.8908376261799125\n",
      "Score for max_features=125 and max_depth=7 is: \n",
      "0.8906887413274573\n",
      "Score for max_features=125 and max_depth=7 is: \n",
      "0.8907780722389305\n",
      "Score for max_features=125 and max_depth=8 is: \n",
      "0.8908078492094215\n",
      "Score for max_features=125 and max_depth=8 is: \n",
      "0.8908078492094215\n",
      "Score for max_features=125 and max_depth=8 is: \n",
      "0.8907185182979483\n",
      "Score for max_features=125 and max_depth=8 is: \n",
      "0.8907482952684393\n",
      "Score for max_features=125 and max_depth=8 is: \n",
      "0.8907482952684393\n",
      "Score for max_features=125 and max_depth=8 is: \n",
      "0.8907482952684393\n",
      "Score for max_features=125 and max_depth=8 is: \n",
      "0.8907482952684393\n",
      "Score for max_features=125 and max_depth=8 is: \n",
      "0.8907482952684393\n",
      "Score for max_features=125 and max_depth=8 is: \n",
      "0.8907482952684393\n",
      "Score for max_features=125 and max_depth=9 is: \n",
      "0.8908674031504035\n",
      "Score for max_features=125 and max_depth=9 is: \n",
      "0.8909269570913855\n",
      "Score for max_features=125 and max_depth=9 is: \n",
      "0.8908674031504035\n",
      "Score for max_features=125 and max_depth=9 is: \n",
      "0.8908674031504035\n",
      "Score for max_features=125 and max_depth=9 is: \n",
      "0.8909269570913855\n",
      "Score for max_features=125 and max_depth=9 is: \n",
      "0.8908376261799125\n",
      "Score for max_features=125 and max_depth=9 is: \n",
      "0.8908674031504035\n",
      "Score for max_features=125 and max_depth=9 is: \n",
      "0.8909269570913855\n",
      "Score for max_features=125 and max_depth=9 is: \n",
      "0.8909269570913855\n",
      "Score for max_features=130 and max_depth=7 is: \n",
      "0.8911353958848227\n",
      "Score for max_features=130 and max_depth=7 is: \n",
      "0.8910162880028586\n",
      "Score for max_features=130 and max_depth=7 is: \n",
      "0.8903016407110741\n",
      "Score for max_features=130 and max_depth=7 is: \n",
      "0.8911353958848227\n",
      "Score for max_features=130 and max_depth=7 is: \n",
      "0.8910162880028586\n",
      "Score for max_features=130 and max_depth=7 is: \n",
      "0.8903016407110741\n",
      "Score for max_features=130 and max_depth=7 is: \n",
      "0.8911353958848227\n",
      "Score for max_features=130 and max_depth=7 is: \n",
      "0.8910758419438406\n",
      "Score for max_features=130 and max_depth=7 is: \n",
      "0.8907185182979483\n",
      "Score for max_features=130 and max_depth=8 is: \n",
      "0.8912247267962957\n",
      "Score for max_features=130 and max_depth=8 is: \n",
      "0.8914033886192418\n",
      "Score for max_features=130 and max_depth=8 is: \n",
      "0.8913736116487508\n",
      "Score for max_features=130 and max_depth=8 is: \n",
      "0.8912247267962957\n",
      "Score for max_features=130 and max_depth=8 is: \n",
      "0.8914331655897328\n",
      "Score for max_features=130 and max_depth=8 is: \n",
      "0.8913438346782598\n",
      "Score for max_features=130 and max_depth=8 is: \n",
      "0.8912247267962957\n",
      "Score for max_features=130 and max_depth=8 is: \n",
      "0.8914331655897328\n",
      "Score for max_features=130 and max_depth=8 is: \n",
      "0.8913438346782598\n",
      "Score for max_features=130 and max_depth=9 is: \n",
      "0.8911651728553137\n",
      "Score for max_features=130 and max_depth=9 is: \n",
      "0.8911651728553137\n",
      "Score for max_features=130 and max_depth=9 is: \n",
      "0.8911353958848227\n",
      "Score for max_features=130 and max_depth=9 is: \n",
      "0.8911651728553137\n",
      "Score for max_features=130 and max_depth=9 is: \n",
      "0.8911651728553137\n",
      "Score for max_features=130 and max_depth=9 is: \n",
      "0.8911651728553137\n",
      "Score for max_features=130 and max_depth=9 is: \n",
      "0.8911651728553137\n",
      "Score for max_features=130 and max_depth=9 is: \n",
      "0.8911651728553137\n",
      "Score for max_features=130 and max_depth=9 is: \n",
      "0.8911651728553137\n",
      "Score for max_features=135 and max_depth=7 is: \n",
      "0.8911353958848227\n",
      "Score for max_features=135 and max_depth=7 is: \n",
      "0.8911353958848227\n",
      "Score for max_features=135 and max_depth=7 is: \n",
      "0.8909269570913855\n",
      "Score for max_features=135 and max_depth=7 is: \n",
      "0.8911056189143317\n",
      "Score for max_features=135 and max_depth=7 is: \n",
      "0.8907780722389305\n",
      "Score for max_features=135 and max_depth=7 is: \n",
      "0.8907780722389305\n",
      "Score for max_features=135 and max_depth=7 is: \n",
      "0.8911056189143317\n",
      "Score for max_features=135 and max_depth=7 is: \n",
      "0.8907780722389305\n",
      "Score for max_features=135 and max_depth=7 is: \n",
      "0.8908971801208945\n",
      "Score for max_features=135 and max_depth=8 is: \n",
      "0.8912545037667867\n",
      "Score for max_features=135 and max_depth=8 is: \n",
      "0.8911949498258047\n",
      "Score for max_features=135 and max_depth=8 is: \n",
      "0.8911651728553137\n",
      "Score for max_features=135 and max_depth=8 is: \n",
      "0.8912545037667867\n",
      "Score for max_features=135 and max_depth=8 is: \n",
      "0.8911949498258047\n",
      "Score for max_features=135 and max_depth=8 is: \n",
      "0.8909269570913855\n",
      "Score for max_features=135 and max_depth=8 is: \n",
      "0.8912545037667867\n",
      "Score for max_features=135 and max_depth=8 is: \n",
      "0.8912247267962957\n",
      "Score for max_features=135 and max_depth=8 is: \n",
      "0.8909865110323676\n",
      "Score for max_features=135 and max_depth=9 is: \n",
      "0.8909269570913855\n",
      "Score for max_features=135 and max_depth=9 is: \n",
      "0.8909269570913855\n",
      "Score for max_features=135 and max_depth=9 is: \n",
      "0.8909269570913855\n",
      "Score for max_features=135 and max_depth=9 is: \n",
      "0.8909269570913855\n",
      "Score for max_features=135 and max_depth=9 is: \n",
      "0.8909269570913855\n",
      "Score for max_features=135 and max_depth=9 is: \n",
      "0.8909269570913855\n",
      "Score for max_features=135 and max_depth=9 is: \n",
      "0.8909865110323676\n",
      "Score for max_features=135 and max_depth=9 is: \n",
      "0.8909865110323676\n",
      "Score for max_features=135 and max_depth=9 is: \n",
      "0.8909865110323676\n",
      "Best score: 0.8914331655897328\n",
      "Best score max_features: 130\n",
      "Best max_depth: 8\n",
      "Best min_samples_leaf: 5\n",
      "Best max_leaf_nodes: 40\n",
      "Best min_impurity_decrease: 0\n"
     ]
    }
   ],
   "source": [
    "#do some classifyin'\n",
    "testnums1= [125,130,135]\n",
    "testnums2= [7,8,9]\n",
    "testnums3= [4,5,6]\n",
    "testnums4= [35,40,45]\n",
    "testnums5= [0]\n",
    "scoretemp=0\n",
    "for n in testnums1:\n",
    "    for m in testnums2:\n",
    "        for o in testnums3:\n",
    "            for p in testnums4:\n",
    "                for q in testnums5:\n",
    "                    clf = tree.DecisionTreeClassifier(criterion='entropy',max_depth=m,max_features=n,min_samples_leaf=o,max_leaf_nodes=p,min_impurity_decrease=q,random_state=1)\n",
    "                    clf = clf.fit(X_train, y_train)\n",
    "                    print('Score for max_features='+str(n)+' and max_depth='+str(m)+' is: ')\n",
    "                    print(clf.score(X_test, y_test))\n",
    "                    scoretemp1=clf.score(X_test, y_test)\n",
    "                    if scoretemp1>scoretemp:\n",
    "                        scoretemp=scoretemp1\n",
    "                        best_max_depth=m\n",
    "                        best_max_features=n\n",
    "                        best_splitter=o\n",
    "                        best_min_weight_fraction_leaf=p\n",
    "                        best_min_impurity_decrease=q\n",
    "print('Best score: '+str(scoretemp))\n",
    "print('Best score max_features: '+str(best_max_features))\n",
    "print('Best max_depth: '+str(best_max_depth))\n",
    "print('Best min_samples_leaf: '+str(best_splitter))\n",
    "print('Best max_leaf_nodes: '+str(best_min_weight_fraction_leaf))\n",
    "print('Best min_impurity_decrease: '+str(best_min_impurity_decrease))"
   ]
  },
  {
   "cell_type": "code",
   "execution_count": 6,
   "id": "3c145158",
   "metadata": {},
   "outputs": [
    {
     "data": {
      "text/plain": [
       "0.8911056189143317"
      ]
     },
     "execution_count": 6,
     "metadata": {},
     "output_type": "execute_result"
    }
   ],
   "source": [
    "# # # # BESTS\n",
    "# Best score: 0.8914331655897328\n",
    "# Best score max_features: 130\n",
    "# Best max_depth: 8\n",
    "# Best min_samples_leaf: 5\n",
    "# Best max_leaf_nodes: 40\n",
    "y_test.count(0)/len(y_test)"
   ]
  },
  {
   "cell_type": "markdown",
   "id": "0554bce6",
   "metadata": {},
   "source": [
    "# Train decision tree on all data using 'best' parameters tested above"
   ]
  },
  {
   "cell_type": "code",
   "execution_count": 7,
   "id": "bca296f4",
   "metadata": {},
   "outputs": [
    {
     "data": {
      "text/plain": [
       "468"
      ]
     },
     "execution_count": 7,
     "metadata": {},
     "output_type": "execute_result"
    }
   ],
   "source": [
    "clf = tree.DecisionTreeClassifier(criterion='entropy',max_depth=best_max_depth,max_features=best_max_features,min_samples_leaf=best_splitter,max_leaf_nodes=best_min_weight_fraction_leaf,min_impurity_decrease=best_min_impurity_decrease,random_state=1)\n",
    "clf = clf.fit(binarydat_unpacked, Y)\n",
    "len(clf.feature_importances_)"
   ]
  },
  {
   "cell_type": "markdown",
   "id": "13b863d4",
   "metadata": {},
   "source": [
    "## View unique feature importances (most will be zero)"
   ]
  },
  {
   "cell_type": "code",
   "execution_count": 8,
   "id": "d9056a4a",
   "metadata": {},
   "outputs": [
    {
     "data": {
      "text/plain": [
       "array([0.        , 0.00228991, 0.00235119, 0.002364  , 0.00268085,\n",
       "       0.00337474, 0.00337958, 0.00347729, 0.00392328, 0.00418606,\n",
       "       0.0044936 , 0.00486669, 0.00502359, 0.00519919, 0.00559715,\n",
       "       0.00755919, 0.02798941, 0.02806302, 0.03771992, 0.03894524,\n",
       "       0.03933721, 0.04854153, 0.05197158, 0.05514075, 0.0734865 ,\n",
       "       0.08481937, 0.11481298, 0.13066357, 0.20774266])"
      ]
     },
     "execution_count": 8,
     "metadata": {},
     "output_type": "execute_result"
    }
   ],
   "source": [
    "np.unique(clf.feature_importances_)"
   ]
  },
  {
   "cell_type": "markdown",
   "id": "7fcf4011",
   "metadata": {},
   "source": [
    "## Delete features whose importance is ZERO"
   ]
  },
  {
   "cell_type": "code",
   "execution_count": 9,
   "id": "826ea1df",
   "metadata": {},
   "outputs": [],
   "source": [
    "importance=clf.feature_importances_\n",
    "importance_na = np.where(importance <0.0025, 'NA', importance)\n",
    "# to further reduce features you can do a line similar to the above but instead of saying... \n",
    "# importance ==0\n",
    "# you could say importance <0.01 or whatever threshold you want "
   ]
  },
  {
   "cell_type": "code",
   "execution_count": 10,
   "id": "3b220547",
   "metadata": {},
   "outputs": [
    {
     "data": {
      "text/plain": [
       "0.8884008411453728"
      ]
     },
     "execution_count": 10,
     "metadata": {},
     "output_type": "execute_result"
    }
   ],
   "source": [
    "#checking something...\n",
    "Y.count(0)/len(Y)"
   ]
  },
  {
   "cell_type": "code",
   "execution_count": 11,
   "id": "2fa99558",
   "metadata": {},
   "outputs": [
    {
     "name": "stderr",
     "output_type": "stream",
     "text": [
      "C:\\Users\\Kat\\AppData\\Local\\Temp/ipykernel_8128/2679394929.py:3: DeprecationWarning: in the future out of bounds indices will raise an error instead of being ignored by `numpy.delete`.\n",
      "  x2 = np.delete(binarydat_unpacked, index,axis=1)\n"
     ]
    },
    {
     "data": {
      "text/plain": [
       "(101766, 25)"
      ]
     },
     "execution_count": 11,
     "metadata": {},
     "output_type": "execute_result"
    }
   ],
   "source": [
    "NA_added=np.vstack([binarydat_unpacked,importance_na])\n",
    "index = np.argwhere(NA_added=='NA')\n",
    "x2 = np.delete(binarydat_unpacked, index,axis=1)\n",
    "x2.shape"
   ]
  },
  {
   "cell_type": "code",
   "execution_count": 12,
   "id": "05cf9bf1",
   "metadata": {},
   "outputs": [
    {
     "data": {
      "text/plain": [
       "(101766, 468)"
      ]
     },
     "execution_count": 12,
     "metadata": {},
     "output_type": "execute_result"
    }
   ],
   "source": [
    "binarydat_unpacked.shape"
   ]
  },
  {
   "cell_type": "markdown",
   "id": "70505bef",
   "metadata": {},
   "source": [
    "# Save Data"
   ]
  },
  {
   "cell_type": "code",
   "execution_count": 13,
   "id": "1c094078",
   "metadata": {},
   "outputs": [],
   "source": [
    "np.save('dataset_diabetes/tree_selected_25_X.npy',x2)"
   ]
  }
 ],
 "metadata": {
  "kernelspec": {
   "display_name": "Python 3 (ipykernel)",
   "language": "python",
   "name": "python3"
  },
  "language_info": {
   "codemirror_mode": {
    "name": "ipython",
    "version": 3
   },
   "file_extension": ".py",
   "mimetype": "text/x-python",
   "name": "python",
   "nbconvert_exporter": "python",
   "pygments_lexer": "ipython3",
   "version": "3.8.5"
  }
 },
 "nbformat": 4,
 "nbformat_minor": 5
}
