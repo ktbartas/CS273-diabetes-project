{
 "cells": [
  {
   "cell_type": "code",
   "execution_count": 1,
   "id": "3f8577e4",
   "metadata": {},
   "outputs": [],
   "source": [
    "import pandas as pd\n",
    "import numpy as np\n",
    "import matplotlib.pyplot as plt\n",
    "from sklearn.preprocessing import OneHotEncoder\n",
    "from sklearn.decomposition import TruncatedSVD\n",
    "from sklearn.neural_network import MLPClassifier\n",
    "from sklearn.model_selection import train_test_split\n",
    "from sklearn.metrics import confusion_matrix"
   ]
  },
  {
   "cell_type": "markdown",
   "id": "ac86f439",
   "metadata": {},
   "source": [
    "## Load the data"
   ]
  },
  {
   "cell_type": "code",
   "execution_count": 2,
   "id": "545d5b31",
   "metadata": {},
   "outputs": [],
   "source": [
    "X_SVD=np.load('dataset_diabetes/SVD_selected_25_X.npy',allow_pickle=True)\n",
    "X_tree=np.load('dataset_diabetes/tree_selected_25_X.npy',allow_pickle=True)\n",
    "readmission=np.load('dataset_diabetes/Y.npy',allow_pickle=True)\n",
    "encounter_id=np.load('dataset_diabetes/encounter_id.npy',allow_pickle=True)\n",
    "patient_nbr=np.load('dataset_diabetes/patient_nbr.npy',allow_pickle=True)"
   ]
  },
  {
   "cell_type": "code",
   "execution_count": 3,
   "id": "b5ff27b2",
   "metadata": {},
   "outputs": [],
   "source": [
    "my_list = np.where(readmission == 'NO', 0, readmission)\n",
    "my_list2 = np.where(my_list == '>30', 0, my_list)\n",
    "Y0 = np.where(my_list2 == '<30', 1, my_list2)\n",
    "Y=list(Y0)"
   ]
  },
  {
   "cell_type": "markdown",
   "id": "d25ce7d4",
   "metadata": {},
   "source": [
    "## Split into 2/3 training and 1/3 testing data sets"
   ]
  },
  {
   "cell_type": "code",
   "execution_count": 4,
   "id": "17fc6286",
   "metadata": {},
   "outputs": [
    {
     "name": "stdout",
     "output_type": "stream",
     "text": [
      "(68183, 25)\n",
      "(68183, 25)\n"
     ]
    }
   ],
   "source": [
    "X0_train, X0_test, Y0_train, Y0_test = train_test_split(X_SVD, Y, test_size=0.33, random_state=1)\n",
    "X1_train, X1_test, Y1_train, Y1_test = train_test_split(X_tree, Y, test_size=0.33, random_state=1)\n",
    "\n",
    "print(np.shape(X0_train))\n",
    "print(np.shape(X1_train))"
   ]
  },
  {
   "cell_type": "markdown",
   "id": "13a2a900",
   "metadata": {},
   "source": [
    "## Train Neural Network\n",
    "\n",
    "Used 10 hidden layers with 100 nodes each for deep architecture. Set max iterations to be high and tolerance to be low to give each network ample training time to converge. Report final loss values for each network."
   ]
  },
  {
   "cell_type": "code",
   "execution_count": 5,
   "id": "72337de9",
   "metadata": {},
   "outputs": [],
   "source": [
    "n_nodes = 10;\n",
    "n_layers = 100;\n",
    "nnet_SVD = MLPClassifier(hidden_layer_sizes=tuple(np.full(n_nodes,n_layers)),random_state=1, max_iter=10000,tol=1e-8).fit(X0_train,Y0_train)\n",
    "nnet_tree = MLPClassifier(hidden_layer_sizes=tuple(np.full(n_nodes,n_layers)),random_state=1, max_iter=10000,tol=1e-8).fit(X1_train,Y1_train)"
   ]
  },
  {
   "cell_type": "code",
   "execution_count": 6,
   "id": "238f723b",
   "metadata": {},
   "outputs": [
    {
     "name": "stdout",
     "output_type": "stream",
     "text": [
      "SVD Loss: 0.07482104190971772\n",
      "Tree Loss: 0.3199722656256294\n"
     ]
    }
   ],
   "source": [
    "print('SVD Loss: '+str(nnet_SVD.loss_))\n",
    "print('Tree Loss: '+str(nnet_tree.loss_))"
   ]
  },
  {
   "cell_type": "markdown",
   "id": "bc1d1fef",
   "metadata": {},
   "source": [
    "## Confusion Matrices\n",
    "\n",
    "Use to analyze how well classification was done for readmitted cases, since these are arguably more important to get correct."
   ]
  },
  {
   "cell_type": "code",
   "execution_count": 7,
   "id": "c32e7a75",
   "metadata": {},
   "outputs": [
    {
     "name": "stdout",
     "output_type": "stream",
     "text": [
      "SVD Train Conf. Matrix: \n",
      "[[60074   409]\n",
      " [ 1284  6416]]\n",
      "\n",
      "Tree Train Conf. Matrix: \n",
      "[[60333   150]\n",
      " [ 7217   483]]\n",
      "\n",
      "SVD Test Conf. Matrix: \n",
      "[[27323  2603]\n",
      " [ 3192   465]]\n",
      "\n",
      "Tree Test Conf. Matrix: \n",
      "[[29664   262]\n",
      " [ 3546   111]]\n"
     ]
    }
   ],
   "source": [
    "Yhat_SVD_train = nnet_SVD.predict(X0_train)\n",
    "Yhat_tree_train = nnet_tree.predict(X1_train)\n",
    "Yhat_SVD_test = nnet_SVD.predict(X0_test)\n",
    "Yhat_tree_test = nnet_tree.predict(X1_test)\n",
    "\n",
    "CM_SVD_Train = confusion_matrix(Y0_train,Yhat_SVD_train);\n",
    "CM_Tree_Train = confusion_matrix(Y1_train,Yhat_tree_train);\n",
    "CM_SVD_Test = confusion_matrix(Y0_test,Yhat_SVD_test);\n",
    "CM_Tree_Test = confusion_matrix(Y1_test,Yhat_tree_test);\n",
    "\n",
    "print('SVD Train Conf. Matrix: '+'\\n'+str(CM_SVD_Train)+'\\n')\n",
    "print('Tree Train Conf. Matrix: '+'\\n'+str(CM_Tree_Train)+'\\n')\n",
    "\n",
    "print('SVD Test Conf. Matrix: '+'\\n'+str(CM_SVD_Test)+'\\n')\n",
    "print('Tree Test Conf. Matrix: '+'\\n'+str(CM_Tree_Test))"
   ]
  },
  {
   "cell_type": "code",
   "execution_count": 8,
   "id": "0377d96a",
   "metadata": {},
   "outputs": [
    {
     "name": "stdout",
     "output_type": "stream",
     "text": [
      "SVD Training Data Set:\n",
      "Total Readmitted Patients: 7700\n",
      "Total Correctly Predicted: 6416\n",
      "\n",
      "Tree Training Data Set:\n",
      "Total Readmitted Patients: 7700\n",
      "Total Correctly Predicted: 483\n"
     ]
    }
   ],
   "source": [
    "SVD_train_total = np.sum(CM_SVD_Train,axis=1)[1];\n",
    "SVD_train_correct = CM_SVD_Train[1][1];\n",
    "\n",
    "Tree_train_total = np.sum(CM_Tree_Train,axis=1)[1];\n",
    "Tree_train_correct = CM_Tree_Train[1][1];\n",
    "\n",
    "print('SVD Training Data Set:')\n",
    "print('Total Readmitted Patients: '+str(SVD_train_total))\n",
    "print('Total Correctly Predicted: '+str(SVD_train_correct)+'\\n')\n",
    "print('Tree Training Data Set:')\n",
    "print('Total Readmitted Patients: '+str(Tree_train_total))\n",
    "print('Total Correctly Predicted: '+str(Tree_train_correct))"
   ]
  },
  {
   "cell_type": "code",
   "execution_count": 9,
   "id": "74c1f7ff",
   "metadata": {},
   "outputs": [
    {
     "name": "stdout",
     "output_type": "stream",
     "text": [
      "SVD Training Data Set:\n",
      "Total Readmitted Patients: 3657\n",
      "Total Correctly Predicted: 465\n",
      "\n",
      "Tree Training Data Set:\n",
      "Total Readmitted Patients: 3657\n",
      "Total Correctly Predicted: 111\n"
     ]
    }
   ],
   "source": [
    "SVD_test_total = np.sum(CM_SVD_Test,axis=1)[1];\n",
    "SVD_test_correct = CM_SVD_Test[1][1];\n",
    "\n",
    "Tree_test_total = np.sum(CM_Tree_Test,axis=1)[1];\n",
    "Tree_test_correct = CM_Tree_Test[1][1];\n",
    "\n",
    "print('SVD Training Data Set:')\n",
    "print('Total Readmitted Patients: '+str(SVD_test_total))\n",
    "print('Total Correctly Predicted: '+str(SVD_test_correct)+'\\n')\n",
    "print('Tree Training Data Set:')\n",
    "print('Total Readmitted Patients: '+str(Tree_test_total))\n",
    "print('Total Correctly Predicted: '+str(Tree_test_correct))"
   ]
  }
 ],
 "metadata": {
  "kernelspec": {
   "display_name": "Python 3",
   "language": "python",
   "name": "python3"
  },
  "language_info": {
   "codemirror_mode": {
    "name": "ipython",
    "version": 3
   },
   "file_extension": ".py",
   "mimetype": "text/x-python",
   "name": "python",
   "nbconvert_exporter": "python",
   "pygments_lexer": "ipython3",
   "version": "3.8.5"
  }
 },
 "nbformat": 4,
 "nbformat_minor": 5
}
