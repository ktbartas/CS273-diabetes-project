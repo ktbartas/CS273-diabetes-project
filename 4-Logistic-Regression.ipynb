{
 "cells": [
  {
   "cell_type": "code",
   "execution_count": 16,
   "id": "8804eab8",
   "metadata": {},
   "outputs": [],
   "source": [
    "#import packages\n",
    "import numpy as np\n",
    "from sklearn.linear_model import LogisticRegression\n",
    "from sklearn.model_selection import train_test_split\n",
    "from sklearn.metrics import confusion_matrix\n",
    "\n",
    "import matplotlib.pyplot as plt\n"
   ]
  },
  {
   "cell_type": "code",
   "execution_count": 2,
   "id": "756f03c8",
   "metadata": {},
   "outputs": [],
   "source": [
    "#import data (X - selected features)\n",
    "X1=np.load('dataset_diabetes/tree_selected_25_X.npy',allow_pickle=True) #decision tree top 25\n",
    "X2=np.load('dataset_diabetes/SVD_selected_25_X.npy',allow_pickle=True) # SVD top 25\n",
    "\n",
    "#import and format Y (labels for our classifier - readmitted=1 or not (at least not soon)=0)\n",
    "readmission=np.load('dataset_diabetes/Y.npy',allow_pickle=True)\n",
    "my_list = np.where(readmission == 'NO', 0, readmission)\n",
    "my_list2 = np.where(my_list == '>30', 0, my_list)\n",
    "Y0 = np.where(my_list2 == '<30', 1, my_list2)\n",
    "Y=list(Y0)"
   ]
  },
  {
   "cell_type": "markdown",
   "id": "8615ae21",
   "metadata": {},
   "source": [
    "# Check to make sure data is size I expect"
   ]
  },
  {
   "cell_type": "code",
   "execution_count": 3,
   "id": "3e2c403b",
   "metadata": {},
   "outputs": [
    {
     "data": {
      "text/plain": [
       "(101766, 25)"
      ]
     },
     "execution_count": 3,
     "metadata": {},
     "output_type": "execute_result"
    }
   ],
   "source": [
    "X1.shape # features chosen by decision tree (binary, meaningful)"
   ]
  },
  {
   "cell_type": "code",
   "execution_count": 4,
   "id": "1e0833e9",
   "metadata": {},
   "outputs": [
    {
     "data": {
      "text/plain": [
       "(101766, 25)"
      ]
     },
     "execution_count": 4,
     "metadata": {},
     "output_type": "execute_result"
    }
   ],
   "source": [
    "X2.shape # features chosen by SVD - not binary, not rly meaningful"
   ]
  },
  {
   "cell_type": "code",
   "execution_count": 5,
   "id": "cf54d0f8",
   "metadata": {},
   "outputs": [
    {
     "data": {
      "text/plain": [
       "101766"
      ]
     },
     "execution_count": 5,
     "metadata": {},
     "output_type": "execute_result"
    }
   ],
   "source": [
    "len(Y)"
   ]
  },
  {
   "cell_type": "markdown",
   "id": "dd6676a9",
   "metadata": {},
   "source": [
    "# Split into train and test data sets"
   ]
  },
  {
   "cell_type": "code",
   "execution_count": 6,
   "id": "85dc9f01",
   "metadata": {},
   "outputs": [],
   "source": [
    "# relabel X arrays\n",
    "X_DT = X1\n",
    "X_SVD = X2\n",
    "\n",
    "# Split data\n",
    "XDT_train, XDT_test, YDT_train, YDT_test = train_test_split(X_DT, Y, test_size=0.33, random_state=1)\n",
    "XSVD_train, XSVD_test, YSVD_train, YSVD_test = train_test_split(X_SVD, Y, test_size=0.33, random_state=1)"
   ]
  },
  {
   "cell_type": "code",
   "execution_count": 7,
   "id": "97adb144",
   "metadata": {},
   "outputs": [
    {
     "data": {
      "text/plain": [
       "(68183, 25)"
      ]
     },
     "execution_count": 7,
     "metadata": {},
     "output_type": "execute_result"
    }
   ],
   "source": [
    "XDT_train.shape"
   ]
  },
  {
   "cell_type": "code",
   "execution_count": 8,
   "id": "560debb2",
   "metadata": {},
   "outputs": [
    {
     "data": {
      "text/plain": [
       "(68183, 25)"
      ]
     },
     "execution_count": 8,
     "metadata": {},
     "output_type": "execute_result"
    }
   ],
   "source": [
    "XSVD_train.shape"
   ]
  },
  {
   "cell_type": "markdown",
   "id": "2f262d62",
   "metadata": {},
   "source": [
    "# Logistic Regression Models"
   ]
  },
  {
   "cell_type": "code",
   "execution_count": 9,
   "id": "3a9002cb",
   "metadata": {},
   "outputs": [],
   "source": [
    "DT_logit = LogisticRegression(random_state=0, max_iter=10000,tol=1e-8).fit(XDT_train, YDT_train)\n",
    "SVD_logit = LogisticRegression(random_state=0, max_iter=10000,tol=1e-8).fit(XSVD_train, YSVD_train)"
   ]
  },
  {
   "cell_type": "markdown",
   "id": "ba293ba2",
   "metadata": {},
   "source": [
    "# Test accuracy"
   ]
  },
  {
   "cell_type": "code",
   "execution_count": 10,
   "id": "5bb3c482",
   "metadata": {},
   "outputs": [],
   "source": [
    "YhatDT_train = DT_logit.predict(XDT_train)\n",
    "YhatDT_test = DT_logit.predict(XDT_test)\n",
    "\n",
    "YhatSVD_train = SVD_logit.predict(XSVD_train)\n",
    "YhatSVD_test = SVD_logit.predict(XSVD_test)"
   ]
  },
  {
   "cell_type": "code",
   "execution_count": 11,
   "id": "8e5a6c23",
   "metadata": {},
   "outputs": [
    {
     "data": {
      "text/plain": [
       "(33583,)"
      ]
     },
     "execution_count": 11,
     "metadata": {},
     "output_type": "execute_result"
    }
   ],
   "source": [
    "YhatSVD_test.shape"
   ]
  },
  {
   "cell_type": "markdown",
   "id": "742a278f",
   "metadata": {},
   "source": [
    "# Confusion Matricies"
   ]
  },
  {
   "cell_type": "code",
   "execution_count": 12,
   "id": "dd3080a5",
   "metadata": {},
   "outputs": [
    {
     "name": "stdout",
     "output_type": "stream",
     "text": [
      "SVD Train Conf. Matrix: \n",
      "[[60483     0]\n",
      " [ 7700     0]]\n",
      "\n",
      "Tree Train Conf. Matrix: \n",
      "[[60418    65]\n",
      " [ 7633    67]]\n",
      "\n",
      "SVD Test Conf. Matrix: \n",
      "[[29926     0]\n",
      " [ 3657     0]]\n",
      "\n",
      "Tree Test Conf. Matrix: \n",
      "[[29873    53]\n",
      " [ 3630    27]]\n"
     ]
    }
   ],
   "source": [
    "CM_SVD_Train = confusion_matrix(YSVD_train,YhatSVD_train);\n",
    "CM_Tree_Train = confusion_matrix(YDT_train,YhatDT_train);\n",
    "\n",
    "CM_SVD_Test = confusion_matrix(YSVD_test,YhatSVD_test);\n",
    "CM_Tree_Test = confusion_matrix(YDT_test,YhatDT_test);\n",
    "\n",
    "print('SVD Train Conf. Matrix: '+'\\n'+str(CM_SVD_Train)+'\\n')\n",
    "print('Tree Train Conf. Matrix: '+'\\n'+str(CM_Tree_Train)+'\\n')\n",
    "\n",
    "print('SVD Test Conf. Matrix: '+'\\n'+str(CM_SVD_Test)+'\\n')\n",
    "print('Tree Test Conf. Matrix: '+'\\n'+str(CM_Tree_Test))"
   ]
  },
  {
   "cell_type": "code",
   "execution_count": 13,
   "id": "0771abc1",
   "metadata": {},
   "outputs": [
    {
     "name": "stdout",
     "output_type": "stream",
     "text": [
      "SVD Training Data Set:\n",
      "Total Readmitted Patients: 7700\n",
      "Total Correctly Predicted: 0\n",
      "\n",
      "Tree Training Data Set:\n",
      "Total Readmitted Patients: 7700\n",
      "Total Correctly Predicted: 67\n"
     ]
    }
   ],
   "source": [
    "SVD_train_total = np.sum(CM_SVD_Train,axis=1)[1];\n",
    "SVD_train_correct = CM_SVD_Train[1][1];\n",
    "\n",
    "Tree_train_total = np.sum(CM_Tree_Train,axis=1)[1];\n",
    "Tree_train_correct = CM_Tree_Train[1][1];\n",
    "\n",
    "print('SVD Training Data Set:')\n",
    "print('Total Readmitted Patients: '+str(SVD_train_total))\n",
    "print('Total Correctly Predicted: '+str(SVD_train_correct)+'\\n')\n",
    "print('Tree Training Data Set:')\n",
    "print('Total Readmitted Patients: '+str(Tree_train_total))\n",
    "print('Total Correctly Predicted: '+str(Tree_train_correct))"
   ]
  },
  {
   "cell_type": "code",
   "execution_count": 15,
   "id": "2b5814df",
   "metadata": {},
   "outputs": [
    {
     "name": "stdout",
     "output_type": "stream",
     "text": [
      "SVD Test Data Set:\n",
      "Total Readmitted Patients: 3657\n",
      "Total Correctly Predicted: 0\n",
      "\n",
      "Tree Test Data Set:\n",
      "Total Readmitted Patients: 3657\n",
      "Total Correctly Predicted: 27\n"
     ]
    }
   ],
   "source": [
    "SVD_test_total = np.sum(CM_SVD_Test,axis=1)[1];\n",
    "SVD_test_correct = CM_SVD_Test[1][1];\n",
    "\n",
    "Tree_test_total = np.sum(CM_Tree_Test,axis=1)[1];\n",
    "Tree_test_correct = CM_Tree_Test[1][1];\n",
    "\n",
    "print('SVD Test Data Set:')\n",
    "print('Total Readmitted Patients: '+str(SVD_test_total))\n",
    "print('Total Correctly Predicted: '+str(SVD_test_correct)+'\\n')\n",
    "print('Tree Test Data Set:')\n",
    "print('Total Readmitted Patients: '+str(Tree_test_total))\n",
    "print('Total Correctly Predicted: '+str(Tree_test_correct))"
   ]
  },
  {
   "cell_type": "code",
   "execution_count": null,
   "id": "e5d1018a",
   "metadata": {},
   "outputs": [],
   "source": []
  }
 ],
 "metadata": {
  "kernelspec": {
   "display_name": "Python 3",
   "language": "python",
   "name": "python3"
  },
  "language_info": {
   "codemirror_mode": {
    "name": "ipython",
    "version": 3
   },
   "file_extension": ".py",
   "mimetype": "text/x-python",
   "name": "python",
   "nbconvert_exporter": "python",
   "pygments_lexer": "ipython3",
   "version": "3.8.8"
  }
 },
 "nbformat": 4,
 "nbformat_minor": 5
}
